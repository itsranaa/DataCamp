{
 "cells": [
  {
   "cell_type": "code",
   "execution_count": 31,
   "metadata": {},
   "outputs": [
    {
     "name": "stdout",
     "output_type": "stream",
     "text": [
      "BlinkStick BS035207-3.0found. Starting the cycle...\n",
      "How many times do you want to repeat the cycle0\n"
     ]
    }
   ],
   "source": [
    "from blinkstick import blinkstick \n",
    "from sys import exit\n",
    "import time\n",
    "bstick = blinkstick.find_first()\n",
    "\n",
    "def lights_off():       #function to turn off all the lEDs\n",
    "    for led in range(0,8):\n",
    "        bstick.set_color(index=led,name=\"black\")\n",
    "        \n",
    "def cslights(state):  #function for crossing signal\n",
    "    if state=='on':\n",
    "        bstick.set_color(index=0,name='black')\n",
    "        bstick.set_color(index=1,name='green')\n",
    "    elif state=='off':\n",
    "        bstick.set_color(index=0,name='red')\n",
    "        bstick.set_color(index=1,name='black')\n",
    "    else:\n",
    "        bstick.set_color(index=0,name='red')\n",
    "        bstick.set_color(index=1,name='green')     \n",
    "        \n",
    "def mflights(state):  #function for mayfield lights\n",
    "    if state=='on':\n",
    "        bstick.set_color(index=2,name='black')\n",
    "        bstick.set_color(index=3,name='black')\n",
    "        bstick.set_color(index=4,name='green')\n",
    "    elif state=='off':\n",
    "        bstick.set_color(index=2,name='red')\n",
    "        bstick.set_color(index=3,name='black')\n",
    "        bstick.set_color(index=4,name='black')\n",
    "    elif state=='stby':\n",
    "        bstick.set_color(index=2,name='black')\n",
    "        bstick.set_color(index=3,name='orange')\n",
    "        bstick.set_color(index=4,name='black')\n",
    "    else:\n",
    "        bstick.set_color(index=2,name='red')\n",
    "        bstick.set_color(index=3,name='orange')\n",
    "        bstick.set_color(index=4,name='black')\n",
    "        \n",
    "def wmlights(state):   #function for west mains lights\n",
    "    if state=='on':\n",
    "        bstick.set_color(index=7,name='black')\n",
    "        bstick.set_color(index=6,name='black')\n",
    "        bstick.set_color(index=5,name='green')\n",
    "    elif state=='off':\n",
    "        bstick.set_color(index=7,name='red')\n",
    "        bstick.set_color(index=6,name='black')\n",
    "        bstick.set_color(index=5,name='black')\n",
    "    elif state=='stby':\n",
    "        bstick.set_color(index=7,name='black')\n",
    "        bstick.set_color(index=6,name='orange')\n",
    "        bstick.set_color(index=5,name='black')\n",
    "    else:\n",
    "        bstick.set_color(index=7,name='red')\n",
    "        bstick.set_color(index=6,name='orange')\n",
    "        bstick.set_color(index=5,name='black')\n",
    "\n",
    "def cycle():  #function for all the cycles\n",
    "    cycle=0\n",
    "    if cycle==0:\n",
    "        wmlights('on')\n",
    "        mflights('off')\n",
    "        cslights('off')\n",
    "        cycle+=1\n",
    "        time.sleep(10)\n",
    "        \n",
    "    if cycle==1:\n",
    "        wmlights('stby')\n",
    "        mflights('off')\n",
    "        cslights('off')\n",
    "        cycle+=1\n",
    "        time.sleep(3)\n",
    "        \n",
    "    if cycle==2:\n",
    "        wmlights('off')\n",
    "        mflights('stby_2')\n",
    "        cslights('off')\n",
    "        cycle+=1\n",
    "        time.sleep(2)\n",
    "        \n",
    "    if cycle==3:\n",
    "        wmlights('off')\n",
    "        mflights('on')\n",
    "        cslights('off')\n",
    "        cycle+=1\n",
    "        time.sleep(10)\n",
    "        \n",
    "    if cycle==4:\n",
    "        wmlights('off')\n",
    "        mflights('stby')\n",
    "        cslights('off')\n",
    "        cycle+=1\n",
    "        time.sleep(3)\n",
    "        \n",
    "    if cycle==5:\n",
    "        wmlights('off')\n",
    "        mflights('off')\n",
    "        cslights('off')\n",
    "        cycle+=1\n",
    "        time.sleep(2)\n",
    "        \n",
    "    if cycle==6:\n",
    "        wmlights('off')\n",
    "        mflights('off')\n",
    "        cslights('on')\n",
    "        cycle+=1\n",
    "        time.sleep(10)\n",
    "        \n",
    "    if cycle==7:\n",
    "        wmlights('off')\n",
    "        mflights('off')\n",
    "        cslights('stby_2')\n",
    "        cycle+=1\n",
    "        time.sleep(3)\n",
    "        \n",
    "    if cycle==8:\n",
    "        wmlights('stby_2')\n",
    "        mflights('off')\n",
    "        cslights('off')\n",
    "        cycle+=1\n",
    "        time.sleep(2)\n",
    "        \n",
    "    if cycle==9:\n",
    "        wmlights('on')\n",
    "        mflights('off')\n",
    "        cslights('off')\n",
    "        cycle+=1\n",
    "        time.sleep(10)\n",
    "        \n",
    "    if cycle==10:\n",
    "        lights_off()\n",
    "\n",
    "def main():  #main function\n",
    "    if bstick is None:\n",
    "        print (\"Blinkstick not found...\")\n",
    "        exit() \n",
    "    else: \n",
    "        print (\"BlinkStick \" + bstick.get_serial() + \"found. Starting the cycle...\")\n",
    "        cycle()\n",
    "        n=int(input('How many times do you want to repeat the cycle'))\n",
    "        for i in range(n):\n",
    "            print('Playing cycle number',str(i+1))\n",
    "            cycle()\n",
    "main()"
   ]
  },
  {
   "cell_type": "code",
   "execution_count": 30,
   "metadata": {},
   "outputs": [],
   "source": [
    "lights_off()"
   ]
  },
  {
   "cell_type": "code",
   "execution_count": 27,
   "metadata": {},
   "outputs": [
    {
     "ename": "KeyboardInterrupt",
     "evalue": "Interrupted by user",
     "output_type": "error",
     "traceback": [
      "\u001b[1;31m---------------------------------------------------------------------------\u001b[0m",
      "\u001b[1;31mKeyboardInterrupt\u001b[0m                         Traceback (most recent call last)",
      "\u001b[1;32m<ipython-input-27-132983c6db5b>\u001b[0m in \u001b[0;36m<module>\u001b[1;34m\u001b[0m\n\u001b[0;32m      1\u001b[0m \u001b[0mquestion\u001b[0m\u001b[1;33m=\u001b[0m\u001b[1;34m'y'\u001b[0m\u001b[1;33m\u001b[0m\u001b[1;33m\u001b[0m\u001b[0m\n\u001b[0;32m      2\u001b[0m \u001b[1;32mwhile\u001b[0m \u001b[0mquestion\u001b[0m \u001b[1;33m==\u001b[0m \u001b[1;34m'y'\u001b[0m\u001b[1;33m:\u001b[0m\u001b[1;33m\u001b[0m\u001b[1;33m\u001b[0m\u001b[0m\n\u001b[1;32m----> 3\u001b[1;33m     \u001b[0mquestion\u001b[0m\u001b[1;33m=\u001b[0m\u001b[0minput\u001b[0m\u001b[1;33m(\u001b[0m\u001b[1;34m'y/n'\u001b[0m\u001b[1;33m)\u001b[0m\u001b[1;33m\u001b[0m\u001b[1;33m\u001b[0m\u001b[0m\n\u001b[0m\u001b[0;32m      4\u001b[0m \u001b[1;32melse\u001b[0m\u001b[1;33m:\u001b[0m\u001b[1;33m\u001b[0m\u001b[1;33m\u001b[0m\u001b[0m\n\u001b[0;32m      5\u001b[0m     \u001b[0mprint\u001b[0m\u001b[1;33m(\u001b[0m\u001b[1;34m'Process done'\u001b[0m\u001b[1;33m)\u001b[0m\u001b[1;33m\u001b[0m\u001b[1;33m\u001b[0m\u001b[0m\n",
      "\u001b[1;32m~\\Anaconda3\\lib\\site-packages\\ipykernel\\kernelbase.py\u001b[0m in \u001b[0;36mraw_input\u001b[1;34m(self, prompt)\u001b[0m\n\u001b[0;32m    858\u001b[0m                 \u001b[1;34m\"raw_input was called, but this frontend does not support input requests.\"\u001b[0m\u001b[1;33m\u001b[0m\u001b[1;33m\u001b[0m\u001b[0m\n\u001b[0;32m    859\u001b[0m             )\n\u001b[1;32m--> 860\u001b[1;33m         return self._input_request(str(prompt),\n\u001b[0m\u001b[0;32m    861\u001b[0m             \u001b[0mself\u001b[0m\u001b[1;33m.\u001b[0m\u001b[0m_parent_ident\u001b[0m\u001b[1;33m,\u001b[0m\u001b[1;33m\u001b[0m\u001b[1;33m\u001b[0m\u001b[0m\n\u001b[0;32m    862\u001b[0m             \u001b[0mself\u001b[0m\u001b[1;33m.\u001b[0m\u001b[0m_parent_header\u001b[0m\u001b[1;33m,\u001b[0m\u001b[1;33m\u001b[0m\u001b[1;33m\u001b[0m\u001b[0m\n",
      "\u001b[1;32m~\\Anaconda3\\lib\\site-packages\\ipykernel\\kernelbase.py\u001b[0m in \u001b[0;36m_input_request\u001b[1;34m(self, prompt, ident, parent, password)\u001b[0m\n\u001b[0;32m    902\u001b[0m             \u001b[1;32mexcept\u001b[0m \u001b[0mKeyboardInterrupt\u001b[0m\u001b[1;33m:\u001b[0m\u001b[1;33m\u001b[0m\u001b[1;33m\u001b[0m\u001b[0m\n\u001b[0;32m    903\u001b[0m                 \u001b[1;31m# re-raise KeyboardInterrupt, to truncate traceback\u001b[0m\u001b[1;33m\u001b[0m\u001b[1;33m\u001b[0m\u001b[1;33m\u001b[0m\u001b[0m\n\u001b[1;32m--> 904\u001b[1;33m                 \u001b[1;32mraise\u001b[0m \u001b[0mKeyboardInterrupt\u001b[0m\u001b[1;33m(\u001b[0m\u001b[1;34m\"Interrupted by user\"\u001b[0m\u001b[1;33m)\u001b[0m \u001b[1;32mfrom\u001b[0m \u001b[1;32mNone\u001b[0m\u001b[1;33m\u001b[0m\u001b[1;33m\u001b[0m\u001b[0m\n\u001b[0m\u001b[0;32m    905\u001b[0m             \u001b[1;32mexcept\u001b[0m \u001b[0mException\u001b[0m \u001b[1;32mas\u001b[0m \u001b[0me\u001b[0m\u001b[1;33m:\u001b[0m\u001b[1;33m\u001b[0m\u001b[1;33m\u001b[0m\u001b[0m\n\u001b[0;32m    906\u001b[0m                 \u001b[0mself\u001b[0m\u001b[1;33m.\u001b[0m\u001b[0mlog\u001b[0m\u001b[1;33m.\u001b[0m\u001b[0mwarning\u001b[0m\u001b[1;33m(\u001b[0m\u001b[1;34m\"Invalid Message:\"\u001b[0m\u001b[1;33m,\u001b[0m \u001b[0mexc_info\u001b[0m\u001b[1;33m=\u001b[0m\u001b[1;32mTrue\u001b[0m\u001b[1;33m)\u001b[0m\u001b[1;33m\u001b[0m\u001b[1;33m\u001b[0m\u001b[0m\n",
      "\u001b[1;31mKeyboardInterrupt\u001b[0m: Interrupted by user"
     ]
    }
   ],
   "source": [
    "question='y'\n",
    "while question == 'y':\n",
    "    question=input('y/n')\n",
    "else:\n",
    "    print('Process done')"
   ]
  },
  {
   "cell_type": "code",
   "execution_count": 3,
   "metadata": {},
   "outputs": [
    {
     "data": {
      "text/plain": [
       "0.10038884888168313"
      ]
     },
     "execution_count": 3,
     "metadata": {},
     "output_type": "execute_result"
    }
   ],
   "source": [
    "import random\n",
    "random.gauss(0,16)"
   ]
  },
  {
   "cell_type": "code",
   "execution_count": null,
   "metadata": {},
   "outputs": [],
   "source": []
  }
 ],
 "metadata": {
  "kernelspec": {
   "display_name": "Python 3",
   "language": "python",
   "name": "python3"
  },
  "language_info": {
   "codemirror_mode": {
    "name": "ipython",
    "version": 3
   },
   "file_extension": ".py",
   "mimetype": "text/x-python",
   "name": "python",
   "nbconvert_exporter": "python",
   "pygments_lexer": "ipython3",
   "version": "3.8.5"
  }
 },
 "nbformat": 4,
 "nbformat_minor": 4
}
