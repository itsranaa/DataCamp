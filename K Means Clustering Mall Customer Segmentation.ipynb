{
 "cells": [
  {
   "cell_type": "code",
   "execution_count": 1,
   "id": "7202f9a2",
   "metadata": {
    "execution": {
     "iopub.execute_input": "2022-08-12T13:07:52.785153Z",
     "iopub.status.busy": "2022-08-12T13:07:52.781022Z",
     "iopub.status.idle": "2022-08-12T13:08:58.781305Z",
     "shell.execute_reply": "2022-08-12T13:08:58.777995Z"
    },
    "papermill": {
     "duration": 66.012398,
     "end_time": "2022-08-12T13:08:58.785628",
     "exception": false,
     "start_time": "2022-08-12T13:07:52.773230",
     "status": "completed"
    },
    "tags": []
   },
   "outputs": [
    {
     "name": "stderr",
     "output_type": "stream",
     "text": [
      "Downloading GitHub repo tidyverse/ggplot2@HEAD\n",
      "\n"
     ]
    },
    {
     "name": "stdout",
     "output_type": "stream",
     "text": [
      "tibble (3.1.7 -> 3.1.8) [CRAN]\n"
     ]
    },
    {
     "name": "stderr",
     "output_type": "stream",
     "text": [
      "Installing 1 packages: tibble\n",
      "\n",
      "Warning message in i.p(...):\n",
      "“installation of package ‘tibble’ had non-zero exit status”\n"
     ]
    },
    {
     "name": "stdout",
     "output_type": "stream",
     "text": [
      "\u001b[32m✔\u001b[39m  \u001b[90mchecking for file ‘/tmp/RtmpdfrKWh/remotese7edecb30/tidyverse-ggplot2-058a9bc/DESCRIPTION’\u001b[39m\u001b[36m\u001b[39m\n",
      "\u001b[90m─\u001b[39m\u001b[90m  \u001b[39m\u001b[90mpreparing ‘ggplot2’:\u001b[39m\u001b[36m\u001b[39m\n",
      "\u001b[32m✔\u001b[39m  \u001b[90mchecking DESCRIPTION meta-information\u001b[39m\u001b[36m\u001b[39m\n",
      "\u001b[90m─\u001b[39m\u001b[90m  \u001b[39m\u001b[90mchecking for LF line-endings in source and make files and shell scripts\u001b[39m\u001b[36m\u001b[36m (445ms)\u001b[36m\u001b[39m\n",
      "\u001b[90m─\u001b[39m\u001b[90m  \u001b[39m\u001b[90mchecking for empty or unneeded directories\u001b[39m\u001b[36m\u001b[39m\n",
      "\u001b[90m─\u001b[39m\u001b[90m  \u001b[39m\u001b[90mbuilding ‘ggplot2_3.3.6.9000.tar.gz’\u001b[39m\u001b[36m\u001b[39m\n",
      "   \n",
      "\r"
     ]
    },
    {
     "name": "stderr",
     "output_type": "stream",
     "text": [
      "Downloading GitHub repo r-lib/scales@HEAD\n",
      "\n"
     ]
    },
    {
     "name": "stdout",
     "output_type": "stream",
     "text": [
      "\n",
      "\u001b[32m✔\u001b[39m  \u001b[90mchecking for file ‘/tmp/RtmpdfrKWh/remotese34a42124/r-lib-scales-a2552d2/DESCRIPTION’\u001b[39m\u001b[36m\u001b[39m\n",
      "\u001b[90m─\u001b[39m\u001b[90m  \u001b[39m\u001b[90mpreparing ‘scales’:\u001b[39m\u001b[36m\u001b[39m\n",
      "\u001b[32m✔\u001b[39m  \u001b[90mchecking DESCRIPTION meta-information\u001b[39m\u001b[36m\u001b[39m\n",
      "\u001b[90m─\u001b[39m\u001b[90m  \u001b[39m\u001b[90minstalling the package to process help pages\u001b[39m\u001b[36m\u001b[39m\n",
      "   Loading required package: scales\n",
      "\u001b[90m─\u001b[39m\u001b[90m  \u001b[39m\u001b[90msaving partial Rd database\u001b[39m\u001b[36m\u001b[39m\n",
      "\u001b[90m─\u001b[39m\u001b[90m  \u001b[39m\u001b[90mchecking for LF line-endings in source and make files and shell scripts\u001b[39m\u001b[36m\u001b[39m\n",
      "\u001b[90m─\u001b[39m\u001b[90m  \u001b[39m\u001b[90mchecking for empty or unneeded directories\u001b[39m\u001b[36m\u001b[39m\n",
      "\u001b[90m─\u001b[39m\u001b[90m  \u001b[39m\u001b[90mbuilding ‘scales_1.2.0.9000.tar.gz’\u001b[39m\u001b[36m\u001b[39m\n",
      "   \n",
      "\r"
     ]
    }
   ],
   "source": [
    "#installing packages\n",
    "devtools::install_github(\"tidyverse/ggplot2\", lib = \"/kaggle/working\")\n",
    "devtools::install_github(\"r-lib/scales\", lib = \"/kaggle/working\")"
   ]
  },
  {
   "cell_type": "code",
   "execution_count": 2,
   "id": "dcc05fa9",
   "metadata": {
    "execution": {
     "iopub.execute_input": "2022-08-12T13:08:58.841685Z",
     "iopub.status.busy": "2022-08-12T13:08:58.801927Z",
     "iopub.status.idle": "2022-08-12T13:08:59.230307Z",
     "shell.execute_reply": "2022-08-12T13:08:59.228429Z"
    },
    "papermill": {
     "duration": 0.439843,
     "end_time": "2022-08-12T13:08:59.233693",
     "exception": false,
     "start_time": "2022-08-12T13:08:58.793850",
     "status": "completed"
    },
    "tags": []
   },
   "outputs": [],
   "source": [
    "library(ggplot2)\n",
    "library(scales)"
   ]
  },
  {
   "cell_type": "code",
   "execution_count": 3,
   "id": "3d98daf1",
   "metadata": {
    "execution": {
     "iopub.execute_input": "2022-08-12T13:08:59.246375Z",
     "iopub.status.busy": "2022-08-12T13:08:59.244796Z",
     "iopub.status.idle": "2022-08-12T13:08:59.303950Z",
     "shell.execute_reply": "2022-08-12T13:08:59.302163Z"
    },
    "papermill": {
     "duration": 0.068119,
     "end_time": "2022-08-12T13:08:59.306423",
     "exception": false,
     "start_time": "2022-08-12T13:08:59.238304",
     "status": "completed"
    },
    "tags": []
   },
   "outputs": [
    {
     "data": {
      "text/html": [
       "<table class=\"dataframe\">\n",
       "<caption>A data.frame: 6 × 5</caption>\n",
       "<thead>\n",
       "\t<tr><th></th><th scope=col>CustomerID</th><th scope=col>Gender</th><th scope=col>Age</th><th scope=col>Annual.Income..k..</th><th scope=col>Spending.Score..1.100.</th></tr>\n",
       "\t<tr><th></th><th scope=col>&lt;int&gt;</th><th scope=col>&lt;chr&gt;</th><th scope=col>&lt;int&gt;</th><th scope=col>&lt;int&gt;</th><th scope=col>&lt;int&gt;</th></tr>\n",
       "</thead>\n",
       "<tbody>\n",
       "\t<tr><th scope=row>1</th><td>1</td><td>Male  </td><td>19</td><td>15</td><td>39</td></tr>\n",
       "\t<tr><th scope=row>2</th><td>2</td><td>Male  </td><td>21</td><td>15</td><td>81</td></tr>\n",
       "\t<tr><th scope=row>3</th><td>3</td><td>Female</td><td>20</td><td>16</td><td> 6</td></tr>\n",
       "\t<tr><th scope=row>4</th><td>4</td><td>Female</td><td>23</td><td>16</td><td>77</td></tr>\n",
       "\t<tr><th scope=row>5</th><td>5</td><td>Female</td><td>31</td><td>17</td><td>40</td></tr>\n",
       "\t<tr><th scope=row>6</th><td>6</td><td>Female</td><td>22</td><td>17</td><td>76</td></tr>\n",
       "</tbody>\n",
       "</table>\n"
      ],
      "text/latex": [
       "A data.frame: 6 × 5\n",
       "\\begin{tabular}{r|lllll}\n",
       "  & CustomerID & Gender & Age & Annual.Income..k.. & Spending.Score..1.100.\\\\\n",
       "  & <int> & <chr> & <int> & <int> & <int>\\\\\n",
       "\\hline\n",
       "\t1 & 1 & Male   & 19 & 15 & 39\\\\\n",
       "\t2 & 2 & Male   & 21 & 15 & 81\\\\\n",
       "\t3 & 3 & Female & 20 & 16 &  6\\\\\n",
       "\t4 & 4 & Female & 23 & 16 & 77\\\\\n",
       "\t5 & 5 & Female & 31 & 17 & 40\\\\\n",
       "\t6 & 6 & Female & 22 & 17 & 76\\\\\n",
       "\\end{tabular}\n"
      ],
      "text/markdown": [
       "\n",
       "A data.frame: 6 × 5\n",
       "\n",
       "| <!--/--> | CustomerID &lt;int&gt; | Gender &lt;chr&gt; | Age &lt;int&gt; | Annual.Income..k.. &lt;int&gt; | Spending.Score..1.100. &lt;int&gt; |\n",
       "|---|---|---|---|---|---|\n",
       "| 1 | 1 | Male   | 19 | 15 | 39 |\n",
       "| 2 | 2 | Male   | 21 | 15 | 81 |\n",
       "| 3 | 3 | Female | 20 | 16 |  6 |\n",
       "| 4 | 4 | Female | 23 | 16 | 77 |\n",
       "| 5 | 5 | Female | 31 | 17 | 40 |\n",
       "| 6 | 6 | Female | 22 | 17 | 76 |\n",
       "\n"
      ],
      "text/plain": [
       "  CustomerID Gender Age Annual.Income..k.. Spending.Score..1.100.\n",
       "1 1          Male   19  15                 39                    \n",
       "2 2          Male   21  15                 81                    \n",
       "3 3          Female 20  16                  6                    \n",
       "4 4          Female 23  16                 77                    \n",
       "5 5          Female 31  17                 40                    \n",
       "6 6          Female 22  17                 76                    "
      ]
     },
     "metadata": {},
     "output_type": "display_data"
    }
   ],
   "source": [
    "#importing csv file\n",
    "cust_segm<- read.csv (\"../input/customer-segmentation-tutorial-in-python/Mall_Customers.csv\")\n",
    "head(cust_segm)"
   ]
  },
  {
   "cell_type": "code",
   "execution_count": 4,
   "id": "7ae8833c",
   "metadata": {
    "execution": {
     "iopub.execute_input": "2022-08-12T13:08:59.319376Z",
     "iopub.status.busy": "2022-08-12T13:08:59.317907Z",
     "iopub.status.idle": "2022-08-12T13:08:59.332604Z",
     "shell.execute_reply": "2022-08-12T13:08:59.330863Z"
    },
    "papermill": {
     "duration": 0.023946,
     "end_time": "2022-08-12T13:08:59.335208",
     "exception": false,
     "start_time": "2022-08-12T13:08:59.311262",
     "status": "completed"
    },
    "tags": []
   },
   "outputs": [],
   "source": [
    "cust_segm$Annual.Income <- cust_segm$Annual.Income..k..\n",
    "cust_segm$Spending.Score <- cust_segm$Spending.Score..1.100."
   ]
  },
  {
   "cell_type": "code",
   "execution_count": 5,
   "id": "87d2775b",
   "metadata": {
    "execution": {
     "iopub.execute_input": "2022-08-12T13:08:59.347939Z",
     "iopub.status.busy": "2022-08-12T13:08:59.346495Z",
     "iopub.status.idle": "2022-08-12T13:08:59.364306Z",
     "shell.execute_reply": "2022-08-12T13:08:59.362671Z"
    },
    "papermill": {
     "duration": 0.02692,
     "end_time": "2022-08-12T13:08:59.366841",
     "exception": false,
     "start_time": "2022-08-12T13:08:59.339921",
     "status": "completed"
    },
    "tags": []
   },
   "outputs": [
    {
     "data": {
      "text/html": [
       "<style>\n",
       ".dl-inline {width: auto; margin:0; padding: 0}\n",
       ".dl-inline>dt, .dl-inline>dd {float: none; width: auto; display: inline-block}\n",
       ".dl-inline>dt::after {content: \":\\0020\"; padding-right: .5ex}\n",
       ".dl-inline>dt:not(:first-of-type) {padding-left: .5ex}\n",
       "</style><dl class=dl-inline><dt>CustomerID</dt><dd>0</dd><dt>Gender</dt><dd>0</dd><dt>Age</dt><dd>0</dd><dt>Annual.Income..k..</dt><dd>0</dd><dt>Spending.Score..1.100.</dt><dd>0</dd><dt>Annual.Income</dt><dd>0</dd><dt>Spending.Score</dt><dd>0</dd></dl>\n"
      ],
      "text/latex": [
       "\\begin{description*}\n",
       "\\item[CustomerID] 0\n",
       "\\item[Gender] 0\n",
       "\\item[Age] 0\n",
       "\\item[Annual.Income..k..] 0\n",
       "\\item[Spending.Score..1.100.] 0\n",
       "\\item[Annual.Income] 0\n",
       "\\item[Spending.Score] 0\n",
       "\\end{description*}\n"
      ],
      "text/markdown": [
       "CustomerID\n",
       ":   0Gender\n",
       ":   0Age\n",
       ":   0Annual.Income..k..\n",
       ":   0Spending.Score..1.100.\n",
       ":   0Annual.Income\n",
       ":   0Spending.Score\n",
       ":   0\n",
       "\n"
      ],
      "text/plain": [
       "            CustomerID                 Gender                    Age \n",
       "                     0                      0                      0 \n",
       "    Annual.Income..k.. Spending.Score..1.100.          Annual.Income \n",
       "                     0                      0                      0 \n",
       "        Spending.Score \n",
       "                     0 "
      ]
     },
     "metadata": {},
     "output_type": "display_data"
    }
   ],
   "source": [
    "#check for null values\n",
    "colSums(is.na(cust_segm))"
   ]
  },
  {
   "cell_type": "code",
   "execution_count": 6,
   "id": "a57cf04d",
   "metadata": {
    "execution": {
     "iopub.execute_input": "2022-08-12T13:08:59.380701Z",
     "iopub.status.busy": "2022-08-12T13:08:59.379167Z",
     "iopub.status.idle": "2022-08-12T13:08:59.397068Z",
     "shell.execute_reply": "2022-08-12T13:08:59.395287Z"
    },
    "papermill": {
     "duration": 0.027725,
     "end_time": "2022-08-12T13:08:59.399702",
     "exception": false,
     "start_time": "2022-08-12T13:08:59.371977",
     "status": "completed"
    },
    "tags": []
   },
   "outputs": [],
   "source": [
    "#converting gender to categorical variable\n",
    "cust_segm$gen_cat[cust_segm$Gender==\"Female\"]<- 0\n",
    "cust_segm$gen_cat[cust_segm$Gender==\"Male\"]<- 1\n",
    "cust_segm$gen_cat<-factor(cust_segm$gen_cat)"
   ]
  },
  {
   "cell_type": "code",
   "execution_count": 7,
   "id": "dd60380d",
   "metadata": {
    "execution": {
     "iopub.execute_input": "2022-08-12T13:08:59.413242Z",
     "iopub.status.busy": "2022-08-12T13:08:59.411625Z",
     "iopub.status.idle": "2022-08-12T13:08:59.425485Z",
     "shell.execute_reply": "2022-08-12T13:08:59.423741Z"
    },
    "papermill": {
     "duration": 0.023439,
     "end_time": "2022-08-12T13:08:59.428066",
     "exception": false,
     "start_time": "2022-08-12T13:08:59.404627",
     "status": "completed"
    },
    "tags": []
   },
   "outputs": [],
   "source": [
    "cust_segm<-cust_segm[c(\"CustomerID\",\"Age\",\"Annual.Income\",\"Spending.Score\",\"gen_cat\")]"
   ]
  },
  {
   "cell_type": "code",
   "execution_count": 8,
   "id": "eddf3ad2",
   "metadata": {
    "execution": {
     "iopub.execute_input": "2022-08-12T13:08:59.441638Z",
     "iopub.status.busy": "2022-08-12T13:08:59.439903Z",
     "iopub.status.idle": "2022-08-12T13:09:00.059811Z",
     "shell.execute_reply": "2022-08-12T13:09:00.057146Z"
    },
    "papermill": {
     "duration": 0.629996,
     "end_time": "2022-08-12T13:09:00.063020",
     "exception": false,
     "start_time": "2022-08-12T13:08:59.433024",
     "status": "completed"
    },
    "tags": []
   },
   "outputs": [
    {
     "data": {
      "text/html": [
       "<style>\n",
       ".list-inline {list-style: none; margin:0; padding: 0}\n",
       ".list-inline>li {display: inline-block}\n",
       ".list-inline>li:not(:last-child)::after {content: \"\\00b7\"; padding: 0 .5ex}\n",
       "</style>\n",
       "<ol class=list-inline><li>270030.559999999</li><li>181412.614141414</li><li>106397.213850762</li><li>73728.623292261</li><li>44497.1854681551</li><li>37282.4936025494</li><li>30275.6947014505</li><li>25034.0540329402</li><li>22803.1338979165</li><li>19716.7348963804</li></ol>\n"
      ],
      "text/latex": [
       "\\begin{enumerate*}\n",
       "\\item 270030.559999999\n",
       "\\item 181412.614141414\n",
       "\\item 106397.213850762\n",
       "\\item 73728.623292261\n",
       "\\item 44497.1854681551\n",
       "\\item 37282.4936025494\n",
       "\\item 30275.6947014505\n",
       "\\item 25034.0540329402\n",
       "\\item 22803.1338979165\n",
       "\\item 19716.7348963804\n",
       "\\end{enumerate*}\n"
      ],
      "text/markdown": [
       "1. 270030.559999999\n",
       "2. 181412.614141414\n",
       "3. 106397.213850762\n",
       "4. 73728.623292261\n",
       "5. 44497.1854681551\n",
       "6. 37282.4936025494\n",
       "7. 30275.6947014505\n",
       "8. 25034.0540329402\n",
       "9. 22803.1338979165\n",
       "10. 19716.7348963804\n",
       "\n",
       "\n"
      ],
      "text/plain": [
       " [1] 270030.56 181412.61 106397.21  73728.62  44497.19  37282.49  30275.69\n",
       " [8]  25034.05  22803.13  19716.73"
      ]
     },
     "metadata": {},
     "output_type": "display_data"
    },
    {
     "name": "stderr",
     "output_type": "stream",
     "text": [
      "Warning message:\n",
      "“Continuous limits supplied to discrete scale.\n",
      "Did you mean `limits = factor(...)` or `scale_*_continuous()`?”\n"
     ]
    },
    {
     "data": {
      "image/png": "[encoded data removed]"
     },
     "metadata": {
      "image/png": {
       "height": 420,
       "width": 420
      }
     },
     "output_type": "display_data"
    }
   ],
   "source": [
    "#determining fields for clustering\n",
    "field_used <- c('Annual.Income','Spending.Score','gen_cat')\n",
    "\n",
    "#determining the ideal number of cluster\n",
    "set.seed(1)\n",
    "sse <- sapply(1:10,function(k_par){kmeans(cust_segm[field_used],centers=k_par,nstart=25)$tot.withinss})\n",
    "sse\n",
    "ssplot <- data.frame(cluster=c(1:10),sse)\n",
    "ggplot(ssplot,aes(x=cluster,y=sse)) + geom_point(color =\"red\") + geom_line(color='blue') +\n",
    "  geom_text(aes(label=format(round(sse), nsmall = 2)),hjust=-0.2, vjust=-0.5, size= 2) +\n",
    "  scale_x_discrete(limits=c(1:10)) + scale_y_continuous(labels=scales::number) + \n",
    "  xlab(\"Number of Clusters\") + ylab(\"Total SSE\") + labs(title =\"Total SSE Vs. Clusters\")\n"
   ]
  },
  {
   "cell_type": "code",
   "execution_count": 9,
   "id": "4e061a81",
   "metadata": {
    "execution": {
     "iopub.execute_input": "2022-08-12T13:09:00.078903Z",
     "iopub.status.busy": "2022-08-12T13:09:00.077350Z",
     "iopub.status.idle": "2022-08-12T13:09:00.118396Z",
     "shell.execute_reply": "2022-08-12T13:09:00.116237Z"
    },
    "papermill": {
     "duration": 0.052098,
     "end_time": "2022-08-12T13:09:00.121446",
     "exception": false,
     "start_time": "2022-08-12T13:09:00.069348",
     "status": "completed"
    },
    "tags": []
   },
   "outputs": [
    {
     "data": {
      "text/html": [
       "<style>\n",
       ".list-inline {list-style: none; margin:0; padding: 0}\n",
       ".list-inline>li {display: inline-block}\n",
       ".list-inline>li:not(:last-child)::after {content: \"\\00b7\"; padding: 0 .5ex}\n",
       "</style>\n",
       "<ol class=list-inline><li>81</li><li>22</li><li>35</li><li>23</li><li>39</li></ol>\n"
      ],
      "text/latex": [
       "\\begin{enumerate*}\n",
       "\\item 81\n",
       "\\item 22\n",
       "\\item 35\n",
       "\\item 23\n",
       "\\item 39\n",
       "\\end{enumerate*}\n"
      ],
      "text/markdown": [
       "1. 81\n",
       "2. 22\n",
       "3. 35\n",
       "4. 23\n",
       "5. 39\n",
       "\n",
       "\n"
      ],
      "text/plain": [
       "[1] 81 22 35 23 39"
      ]
     },
     "metadata": {},
     "output_type": "display_data"
    },
    {
     "data": {
      "text/html": [
       "<table class=\"dataframe\">\n",
       "<caption>A data.frame: 6 × 6</caption>\n",
       "<thead>\n",
       "\t<tr><th></th><th scope=col>CustomerID</th><th scope=col>Age</th><th scope=col>Annual.Income</th><th scope=col>Spending.Score</th><th scope=col>gen_cat</th><th scope=col>cluster</th></tr>\n",
       "\t<tr><th></th><th scope=col>&lt;int&gt;</th><th scope=col>&lt;int&gt;</th><th scope=col>&lt;int&gt;</th><th scope=col>&lt;int&gt;</th><th scope=col>&lt;fct&gt;</th><th scope=col>&lt;int&gt;</th></tr>\n",
       "</thead>\n",
       "<tbody>\n",
       "\t<tr><th scope=row>1</th><td>1</td><td>19</td><td>15</td><td>39</td><td>1</td><td>4</td></tr>\n",
       "\t<tr><th scope=row>2</th><td>2</td><td>21</td><td>15</td><td>81</td><td>1</td><td>2</td></tr>\n",
       "\t<tr><th scope=row>3</th><td>3</td><td>20</td><td>16</td><td> 6</td><td>0</td><td>4</td></tr>\n",
       "\t<tr><th scope=row>4</th><td>4</td><td>23</td><td>16</td><td>77</td><td>0</td><td>2</td></tr>\n",
       "\t<tr><th scope=row>5</th><td>5</td><td>31</td><td>17</td><td>40</td><td>0</td><td>4</td></tr>\n",
       "\t<tr><th scope=row>6</th><td>6</td><td>22</td><td>17</td><td>76</td><td>0</td><td>2</td></tr>\n",
       "</tbody>\n",
       "</table>\n"
      ],
      "text/latex": [
       "A data.frame: 6 × 6\n",
       "\\begin{tabular}{r|llllll}\n",
       "  & CustomerID & Age & Annual.Income & Spending.Score & gen\\_cat & cluster\\\\\n",
       "  & <int> & <int> & <int> & <int> & <fct> & <int>\\\\\n",
       "\\hline\n",
       "\t1 & 1 & 19 & 15 & 39 & 1 & 4\\\\\n",
       "\t2 & 2 & 21 & 15 & 81 & 1 & 2\\\\\n",
       "\t3 & 3 & 20 & 16 &  6 & 0 & 4\\\\\n",
       "\t4 & 4 & 23 & 16 & 77 & 0 & 2\\\\\n",
       "\t5 & 5 & 31 & 17 & 40 & 0 & 4\\\\\n",
       "\t6 & 6 & 22 & 17 & 76 & 0 & 2\\\\\n",
       "\\end{tabular}\n"
      ],
      "text/markdown": [
       "\n",
       "A data.frame: 6 × 6\n",
       "\n",
       "| <!--/--> | CustomerID &lt;int&gt; | Age &lt;int&gt; | Annual.Income &lt;int&gt; | Spending.Score &lt;int&gt; | gen_cat &lt;fct&gt; | cluster &lt;int&gt; |\n",
       "|---|---|---|---|---|---|---|\n",
       "| 1 | 1 | 19 | 15 | 39 | 1 | 4 |\n",
       "| 2 | 2 | 21 | 15 | 81 | 1 | 2 |\n",
       "| 3 | 3 | 20 | 16 |  6 | 0 | 4 |\n",
       "| 4 | 4 | 23 | 16 | 77 | 0 | 2 |\n",
       "| 5 | 5 | 31 | 17 | 40 | 0 | 4 |\n",
       "| 6 | 6 | 22 | 17 | 76 | 0 | 2 |\n",
       "\n"
      ],
      "text/plain": [
       "  CustomerID Age Annual.Income Spending.Score gen_cat cluster\n",
       "1 1          19  15            39             1       4      \n",
       "2 2          21  15            81             1       2      \n",
       "3 3          20  16             6             0       4      \n",
       "4 4          23  16            77             0       2      \n",
       "5 5          31  17            40             0       4      \n",
       "6 6          22  17            76             0       2      "
      ]
     },
     "metadata": {},
     "output_type": "display_data"
    }
   ],
   "source": [
    "#customer segmentation\n",
    "segment <- kmeans(x=cust_segm[field_used], centers=5, nstart=25)\n",
    "segment$size\n",
    "cust_segm$cluster <- segment$cluster\n",
    "head(cust_segm)"
   ]
  },
  {
   "cell_type": "code",
   "execution_count": 10,
   "id": "1b3fc620",
   "metadata": {
    "execution": {
     "iopub.execute_input": "2022-08-12T13:09:00.137792Z",
     "iopub.status.busy": "2022-08-12T13:09:00.136256Z",
     "iopub.status.idle": "2022-08-12T13:09:00.577686Z",
     "shell.execute_reply": "2022-08-12T13:09:00.574898Z"
    },
    "papermill": {
     "duration": 0.453143,
     "end_time": "2022-08-12T13:09:00.580972",
     "exception": false,
     "start_time": "2022-08-12T13:09:00.127829",
     "status": "completed"
    },
    "tags": []
   },
   "outputs": [
    {
     "data": {
      "image/png": "[encoded data removed]"
     },
     "metadata": {
      "image/png": {
       "height": 420,
       "width": 420
      }
     },
     "output_type": "display_data"
    }
   ],
   "source": [
    "#plottingg the segmentation\n",
    "ggplot(cust_segm, aes (x=Annual.Income, y= Spending.Score)) +\n",
    "  geom_point (aes(color=factor(cluster),shape=factor(gen_cat))) "
   ]
  },
  {
   "cell_type": "code",
   "execution_count": 11,
   "id": "bee4c5da",
   "metadata": {
    "execution": {
     "iopub.execute_input": "2022-08-12T13:09:00.600303Z",
     "iopub.status.busy": "2022-08-12T13:09:00.598774Z",
     "iopub.status.idle": "2022-08-12T13:09:00.624628Z",
     "shell.execute_reply": "2022-08-12T13:09:00.622364Z"
    },
    "papermill": {
     "duration": 0.039161,
     "end_time": "2022-08-12T13:09:00.627725",
     "exception": false,
     "start_time": "2022-08-12T13:09:00.588564",
     "status": "completed"
    },
    "tags": []
   },
   "outputs": [
    {
     "data": {
      "text/html": [
       "<table class=\"dataframe\">\n",
       "<caption>A data.frame: 5 × 2</caption>\n",
       "<thead>\n",
       "\t<tr><th scope=col>Cluster</th><th scope=col>Categories</th></tr>\n",
       "\t<tr><th scope=col>&lt;dbl&gt;</th><th scope=col>&lt;chr&gt;</th></tr>\n",
       "</thead>\n",
       "<tbody>\n",
       "\t<tr><td>1</td><td>Lower Spending Lower Income  </td></tr>\n",
       "\t<tr><td>2</td><td>Higher Spending Lower Income </td></tr>\n",
       "\t<tr><td>3</td><td>Average Spending and Income  </td></tr>\n",
       "\t<tr><td>4</td><td>Higher Spending Higher Income</td></tr>\n",
       "\t<tr><td>5</td><td>Lower Spending Higher Income </td></tr>\n",
       "</tbody>\n",
       "</table>\n"
      ],
      "text/latex": [
       "A data.frame: 5 × 2\n",
       "\\begin{tabular}{ll}\n",
       " Cluster & Categories\\\\\n",
       " <dbl> & <chr>\\\\\n",
       "\\hline\n",
       "\t 1 & Lower Spending Lower Income  \\\\\n",
       "\t 2 & Higher Spending Lower Income \\\\\n",
       "\t 3 & Average Spending and Income  \\\\\n",
       "\t 4 & Higher Spending Higher Income\\\\\n",
       "\t 5 & Lower Spending Higher Income \\\\\n",
       "\\end{tabular}\n"
      ],
      "text/markdown": [
       "\n",
       "A data.frame: 5 × 2\n",
       "\n",
       "| Cluster &lt;dbl&gt; | Categories &lt;chr&gt; |\n",
       "|---|---|\n",
       "| 1 | Lower Spending Lower Income   |\n",
       "| 2 | Higher Spending Lower Income  |\n",
       "| 3 | Average Spending and Income   |\n",
       "| 4 | Higher Spending Higher Income |\n",
       "| 5 | Lower Spending Higher Income  |\n",
       "\n"
      ],
      "text/plain": [
       "  Cluster Categories                   \n",
       "1 1       Lower Spending Lower Income  \n",
       "2 2       Higher Spending Lower Income \n",
       "3 3       Average Spending and Income  \n",
       "4 4       Higher Spending Higher Income\n",
       "5 5       Lower Spending Higher Income "
      ]
     },
     "metadata": {},
     "output_type": "display_data"
    }
   ],
   "source": [
    "#Identifying the cluster\n",
    "cluster_identity <- data.frame(Cluster=c(1,2,3,4,5),\n",
    "                        Categories=c(\"Lower Spending Lower Income\",\n",
    "                                     \"Higher Spending Lower Income\",\n",
    "                                     \"Average Spending and Income\",\n",
    "                                     \"Higher Spending Higher Income\",\n",
    "                                     \"Lower Spending Higher Income\"))\n",
    "cluster_identity"
   ]
  },
  {
   "cell_type": "markdown",
   "id": "f44d8388",
   "metadata": {
    "papermill": {
     "duration": 0.00792,
     "end_time": "2022-08-12T13:09:00.643755",
     "exception": false,
     "start_time": "2022-08-12T13:09:00.635835",
     "status": "completed"
    },
    "tags": []
   },
   "source": [
    "**Conclusion and Recommendation**\n",
    "The customers are distributed in 5 clusters. The main objective is to attract customer to increase their spending as well as keeping the existing big spender customers.\n",
    "* The majority of customer are in cluster 3 (average spending, average income, dominated by women). To increase their spending, we could set the customers for subscriptions plan in which they could earn point everytime they shop and could redeem the points for certain amount of discount. \n",
    "* For cluster 5 (lower spending, higher income, dominated by men), we should provide more luxurious goods for men.\n",
    "* Lastly, to keep the loyalty of big spender customers, the mall could set up a VIP membership to give the exclusive experience for the customers."
   ]
  }
 ],
 "metadata": {
  "kernelspec": {
   "display_name": "R",
   "language": "R",
   "name": "ir"
  },
  "language_info": {
   "codemirror_mode": "r",
   "file_extension": ".r",
   "mimetype": "text/x-r-source",
   "name": "R",
   "pygments_lexer": "r",
   "version": "4.0.5"
  },
  "papermill": {
   "default_parameters": {},
   "duration": 72.307861,
   "end_time": "2022-08-12T13:09:00.773517",
   "environment_variables": {},
   "exception": null,
   "input_path": "__notebook__.ipynb",
   "output_path": "__notebook__.ipynb",
   "parameters": {},
   "start_time": "2022-08-12T13:07:48.465656",
   "version": "2.3.4"
  }
 },
 "nbformat": 4,
 "nbformat_minor": 5
}
